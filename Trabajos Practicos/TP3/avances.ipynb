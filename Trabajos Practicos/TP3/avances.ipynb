{
 "cells": [
  {
   "cell_type": "markdown",
   "id": "e0bba231-397c-428b-bd29-08851eb486a5",
   "metadata": {},
   "source": [
    "## TP3"
   ]
  },
  {
   "cell_type": "markdown",
   "id": "6aa8e80e-f063-4ab5-8247-8d563670855d",
   "metadata": {},
   "source": [
    "Encontrar el logotipo de la gaseosa dentro de las imágenes provistas en\r\n",
    "Material_TPs/TP3/images a partir del template Material_TPs/TP3/template\r\n",
    "1. (4 puntos) Obtener una detección del logo en cada imagen sin falsos posit. os\r\n",
    "2. (4 puntos) Plantear y validar un algoritmo para múltiples detecciones en la imagen\r\n",
    "coca_multi.png con el mismo témplate del ítem 1\r\n",
    "3. (2 puntos) Generalizar el algoritmo del item 2 para todas las imágenes.\r\n",
    "Visualizar los resultados con bounding boxes en cada imagen mostrando el nivel de confianza\r\n",
    "de la detección"
   ]
  },
  {
   "cell_type": "code",
   "execution_count": 1,
   "id": "eaa8038b-b7cc-4692-9ce7-9560e35adafb",
   "metadata": {},
   "outputs": [],
   "source": [
    "%matplotlib qt\n",
    "\n",
    "import numpy as np\n",
    "import cv2 as cv\n",
    "import matplotlib.pyplot as plt"
   ]
  },
  {
   "cell_type": "markdown",
   "id": "b80f10c5-2812-4285-9b13-fde1214adae7",
   "metadata": {},
   "source": [
    "Vamos a probar con los 6 métodos de detección de patrones y observar en donde obtenemos falsos positivos para descartarlos. \n",
    "Comenzamos con la imagen logo_1.pngng\""
   ]
  },
  {
   "cell_type": "code",
   "execution_count": 39,
   "id": "1487d33d-b466-4fbc-9fb0-c4d72ec92caf",
   "metadata": {},
   "outputs": [
    {
     "data": {
      "text/plain": [
       "<matplotlib.image.AxesImage at 0x1d84548a7e0>"
      ]
     },
     "execution_count": 39,
     "metadata": {},
     "output_type": "execute_result"
    }
   ],
   "source": [
    "# Cargamos la imagen a procesar\n",
    "img = cv.imread('images/logo_1.png')\n",
    "\n",
    "img_rgb= cv.cvtColor(img, cv.COLOR_BGR2RGB)\n",
    "img_gray= cv.cvtColor(img, cv.COLOR_BGR2GRAY)\n",
    "template = cv.imread('template/pattern.png',0)\n",
    "\n",
    "plt.figure()\n",
    "plt.subplot(1,2,1)\n",
    "plt.imshow(template, cmap='gray')\n",
    "plt.subplot(1,2,2)\n",
    "plt.imshow(img_rgb)"
   ]
  },
  {
   "cell_type": "code",
   "execution_count": 41,
   "id": "39577c0e-9d94-4870-af78-5f9b984255e2",
   "metadata": {},
   "outputs": [],
   "source": [
    "w, h = template.shape[::-1]\n",
    "# Los 6 métodos posibles para comparación:\n",
    "methods = ['cv.TM_CCOEFF', 'cv.TM_CCOEFF_NORMED', 'cv.TM_CCORR',\n",
    "            'cv.TM_CCORR_NORMED', 'cv.TM_SQDIFF', 'cv.TM_SQDIFF_NORMED']\n",
    "\n",
    "for meth in methods:\n",
    "    # Hago una copia de la imagen porque ciclo a ciclo le dibujo rectángulos\n",
    "    img_salida = img_rgb.copy()\n",
    "    \n",
    "    method = eval(meth)\n",
    "    \n",
    "    # Aplicamos la coincidencia de patrones\n",
    "    #--------------------------------------\n",
    "    res = cv.matchTemplate(img_gray, template, method)\n",
    "    \n",
    "    # Encontramos los valores máximos y mínimos\n",
    "    min_val, max_val, min_loc, max_loc = cv.minMaxLoc(res)\n",
    "    \n",
    "    # Si el método es TM_SQDIFF o TM_SQDIFF_NORMED, tomamos el mínimo\n",
    "    if method in [cv.TM_SQDIFF, cv.TM_SQDIFF_NORMED]:\n",
    "        top_left = min_loc\n",
    "    else:\n",
    "        top_left = max_loc\n",
    "    \n",
    "    # Marcamos el lugar donde lo haya encontrado\n",
    "    #----------------------------------------\n",
    "    bottom_right = (top_left[0] + w, top_left[1] + h)\n",
    "    cv.rectangle(img_salida,top_left, bottom_right, 255, 2)\n",
    "    \n",
    "    # Graficamos el procesamiento y la salida\n",
    "    #----------------------------------------\n",
    "    plt.figure()\n",
    "    \n",
    "    # Resultado de coincidencia\n",
    "    plt.subplot(121),plt.imshow(res,cmap = 'gray')\n",
    "    plt.title('Matching Result'), plt.xticks([]), plt.yticks([])\n",
    "    \n",
    "    # Imagen original con recuadros\n",
    "    plt.subplot(122),plt.imshow(img_salida)\n",
    "    plt.title('Detected Point'), plt.xticks([]), plt.yticks([])\n",
    "    \n",
    "    plt.suptitle(meth)\n",
    "    plt.show()"
   ]
  },
  {
   "cell_type": "markdown",
   "id": "c8aa3021-faa3-49f2-bb3f-15388693cf4e",
   "metadata": {},
   "source": [
    "Podemos observar lo siguiente:\n",
    "1. Con el metodo **Coeficiente de correlación cruzada** obtenemos un falso positivo parcial ya que al parecer detecta parte del  logo pero no llega a reconocerlo completamente.\n",
    "2. Con el metodo **Coeficiente de correlación cruzada normalizado** observamos el mismo comportamiento que con TM_CCOEFF.\n",
    "3. Con el metodo de **Correlación cruzada** observamos que tenemos una correcta deteccion salvo por una pequeña parte del logo que no llega a detectar.\n",
    "4. Con el metodo de **Correlación cruzada normalizada** al igual que en TM_CCOEFF y TM_CCOEFF_NORMED observamos que solo detecta una parte del logo.\n",
    "5. Con el metodo de **CDiferencia cuadrática media (SSD)** observamos que si hace una correcta detección del logo encerrando en el cuadro gran parte del logo pero dejando afuera una parte de la primera \"C\" de la palabra Coca Cola.\n",
    "6. Con el metodo de **CDiferencia cuadrática media (SSD) normalizado** mismo resultado que con TM_SQDIFF"
   ]
  },
  {
   "cell_type": "markdown",
   "id": "1d1b1c03-6271-4f78-b636-0bbd6daa9b55",
   "metadata": {},
   "source": [
    "Hacemos lo mismo para \"coca_logo_1\"."
   ]
  },
  {
   "cell_type": "code",
   "execution_count": 47,
   "id": "87e7b3a9-527d-4918-86ab-81e6fc1ef556",
   "metadata": {},
   "outputs": [
    {
     "data": {
      "text/plain": [
       "<matplotlib.image.AxesImage at 0x1d8478ed280>"
      ]
     },
     "execution_count": 47,
     "metadata": {},
     "output_type": "execute_result"
    }
   ],
   "source": [
    "# Cargamos la imagen a procesar\n",
    "img = cv.imread('images/coca_logo_1.png')\n",
    "\n",
    "img_rgb= cv.cvtColor(img, cv.COLOR_BGR2RGB)\n",
    "img_gray= cv.cvtColor(img, cv.COLOR_BGR2GRAY)\n",
    "template = cv.imread('template/pattern.png',0)\n",
    "\n",
    "plt.figure()\n",
    "plt.subplot(1,2,1)\n",
    "plt.imshow(template, cmap='gray')\n",
    "plt.subplot(1,2,2)\n",
    "plt.imshow(img_rgb)"
   ]
  },
  {
   "cell_type": "markdown",
   "id": "1d1361aa-df33-44c2-94e0-1bb4cd5a104f",
   "metadata": {},
   "source": [
    "En el caso de esta imagen el codigo me da un error ya que la imagen es más pequeña que el template, lo que hago es primero hacer una detección de dicho problema para cada metodo e implemento un metodo para escalar la imagen del tamaño del template para poder implementar los metodos"
   ]
  },
  {
   "cell_type": "code",
   "execution_count": 49,
   "id": "e4718cc0-167e-4824-8cd0-67ae931ab79e",
   "metadata": {},
   "outputs": [],
   "source": [
    "def escalar_imagen_si_necesario(img_rgb, img_gray, template):\n",
    "    h_img, w_img = img_gray.shape\n",
    "    h_temp, w_temp = template.shape\n",
    "\n",
    "    # Si la imagen es más pequeña que el template en cualquier dimensión\n",
    "    if h_img < h_temp or w_img < w_temp:\n",
    "        # Calculamos el factor necesario para igualar dimensiones\n",
    "        scale_h = h_temp / h_img\n",
    "        scale_w = w_temp / w_img\n",
    "        scale_factor = max(scale_h, scale_w) + 0.05  # Un poco más para asegurar\n",
    "\n",
    "        new_width = int(w_img * scale_factor)\n",
    "        new_height = int(h_img * scale_factor)\n",
    "\n",
    "        # Escalar ambas imágenes\n",
    "        img_gray_scaled = cv.resize(img_gray, (new_width, new_height), interpolation=cv.INTER_LINEAR)\n",
    "        img_rgb_scaled = cv.resize(img_rgb, (new_width, new_height), interpolation=cv.INTER_LINEAR)\n",
    "\n",
    "        print(f\"🔁 Imagen escalada automáticamente a: {new_width}x{new_height}\")\n",
    "        return img_rgb_scaled, img_gray_scaled\n",
    "    else:\n",
    "        return img_rgb, img_gray"
   ]
  },
  {
   "cell_type": "code",
   "execution_count": 51,
   "id": "3c475e57-8aaa-485a-91f6-d3e12dd1b9ed",
   "metadata": {},
   "outputs": [
    {
     "name": "stdout",
     "output_type": "stream",
     "text": [
      "🔁 Imagen escalada automáticamente a: 410x991\n"
     ]
    }
   ],
   "source": [
    "w, h = template.shape[::-1]\n",
    "\n",
    "# Los 6 métodos posibles para comparación:\n",
    "methods = ['cv.TM_CCOEFF', 'cv.TM_CCOEFF_NORMED', 'cv.TM_CCORR',\n",
    "           'cv.TM_CCORR_NORMED', 'cv.TM_SQDIFF', 'cv.TM_SQDIFF_NORMED']\n",
    "\n",
    "img_rgb, img_gray = escalar_imagen_si_necesario(img_rgb, img_gray, template)\n",
    "\n",
    "for meth in methods:\n",
    "    img_salida = img_rgb.copy()\n",
    "    method = eval(meth)\n",
    "\n",
    "    # Verificación de tamaño\n",
    "    if img_gray.shape[0] < template.shape[0] or img_gray.shape[1] < template.shape[1]:\n",
    "        print(f\"⚠️ El template es más grande que la imagen. Saltando método: {meth}\")\n",
    "        continue\n",
    "\n",
    "    # Aplicamos la coincidencia de patrones\n",
    "    res = cv.matchTemplate(img_gray, template, method)\n",
    "    min_val, max_val, min_loc, max_loc = cv.minMaxLoc(res)\n",
    "\n",
    "    # Si el método es SQDIFF, buscamos el mínimo; en otros, el máximo\n",
    "    if method in [cv.TM_SQDIFF, cv.TM_SQDIFF_NORMED]:\n",
    "        top_left = min_loc\n",
    "    else:\n",
    "        top_left = max_loc\n",
    "\n",
    "    bottom_right = (top_left[0] + w, top_left[1] + h)\n",
    "    cv.rectangle(img_salida, top_left, bottom_right, 255, 2)\n",
    "\n",
    "    # Mostrar resultados\n",
    "    plt.figure(figsize=(10, 5))\n",
    "    plt.subplot(121)\n",
    "    plt.imshow(res, cmap='gray')\n",
    "    plt.title('Matching Result')\n",
    "    plt.xticks([]), plt.yticks([])\n",
    "\n",
    "    plt.subplot(122)\n",
    "    plt.imshow(img_salida)\n",
    "    plt.title('Detected Point')\n",
    "    plt.xticks([]), plt.yticks([])\n",
    "\n",
    "    plt.suptitle(meth)\n",
    "    plt.show()"
   ]
  },
  {
   "cell_type": "markdown",
   "id": "12fd6184-970c-49c2-aab6-e13c834ba161",
   "metadata": {},
   "source": []
  }
 ],
 "metadata": {
  "kernelspec": {
   "display_name": "Python 3 (ipykernel)",
   "language": "python",
   "name": "python3"
  },
  "language_info": {
   "codemirror_mode": {
    "name": "ipython",
    "version": 3
   },
   "file_extension": ".py",
   "mimetype": "text/x-python",
   "name": "python",
   "nbconvert_exporter": "python",
   "pygments_lexer": "ipython3",
   "version": "3.12.3"
  }
 },
 "nbformat": 4,
 "nbformat_minor": 5
}
